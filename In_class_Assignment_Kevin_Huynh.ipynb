{
  "nbformat": 4,
  "nbformat_minor": 0,
  "metadata": {
    "colab": {
      "provenance": [],
      "authorship_tag": "ABX9TyMrzVe60r4fsK6G98h7AZ2a",
      "include_colab_link": true
    },
    "kernelspec": {
      "name": "python3",
      "display_name": "Python 3"
    },
    "language_info": {
      "name": "python"
    }
  },
  "cells": [
    {
      "cell_type": "markdown",
      "metadata": {
        "id": "view-in-github",
        "colab_type": "text"
      },
      "source": [
        "<a href=\"https://colab.research.google.com/github/KevinHuynh777/BTE320/blob/main/In_class_Assignment_Kevin_Huynh.ipynb\" target=\"_parent\"><img src=\"https://colab.research.google.com/assets/colab-badge.svg\" alt=\"Open In Colab\"/></a>"
      ]
    },
    {
      "cell_type": "code",
      "execution_count": 1,
      "metadata": {
        "colab": {
          "base_uri": "https://localhost:8080/"
        },
        "id": "8uY8xoslPXMk",
        "outputId": "8ace59d7-081d-4899-eb15-7d582487f706"
      },
      "outputs": [
        {
          "output_type": "stream",
          "name": "stdout",
          "text": [
            "Enter radius5\n",
            "Enter height7\n",
            "Area of cylinder: 376.8 sq. ft\n"
          ]
        }
      ],
      "source": [
        "pi = 3.14\n",
        "radius = float(input('Enter radius'))\n",
        "height = float(input('Enter height'))\n",
        "\n",
        "area = (2 * pi * (radius ** 2))+(2*pi*radius*height)\n",
        "\n",
        "print(f'Area of cylinder: {area} sq. ft')\n"
      ]
    }
  ]
}