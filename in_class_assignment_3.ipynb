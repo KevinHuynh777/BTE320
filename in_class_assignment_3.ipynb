{
  "nbformat": 4,
  "nbformat_minor": 0,
  "metadata": {
    "colab": {
      "provenance": [],
      "authorship_tag": "ABX9TyN6wpYlOqo3ZyGgmgAuM65m",
      "include_colab_link": true
    },
    "kernelspec": {
      "name": "python3",
      "display_name": "Python 3"
    },
    "language_info": {
      "name": "python"
    }
  },
  "cells": [
    {
      "cell_type": "markdown",
      "metadata": {
        "id": "view-in-github",
        "colab_type": "text"
      },
      "source": [
        "<a href=\"https://colab.research.google.com/github/KevinHuynh777/BTE320/blob/main/in_class_assignment_3.ipynb\" target=\"_parent\"><img src=\"https://colab.research.google.com/assets/colab-badge.svg\" alt=\"Open In Colab\"/></a>"
      ]
    },
    {
      "cell_type": "code",
      "execution_count": 12,
      "metadata": {
        "colab": {
          "base_uri": "https://localhost:8080/"
        },
        "id": "zO0kBkO3nM7Y",
        "outputId": "f7bd218b-eded-4009-866f-7b564549ffa8"
      },
      "outputs": [
        {
          "output_type": "stream",
          "name": "stdout",
          "text": [
            "1 10\n",
            "2 10\n",
            "3 17.5\n",
            "4 20.0\n",
            "5 22.5\n",
            "6 20\n",
            "7 20\n",
            "8 20\n"
          ]
        }
      ],
      "source": [
        "for hours in range(1, 9, 1):\n",
        "  if hours <= 2:\n",
        "    print(hours, 10)\n",
        "  elif hours <= 5:\n",
        "    print(hours, hours * 2.5 + 10)\n",
        "  else:\n",
        "    print(hours, 20)\n"
      ]
    },
    {
      "cell_type": "code",
      "source": [
        "for hours in range(1, 9, 1):\n",
        "  fee = 5 + 2.5 * hours\n",
        "\n",
        "  if fee < 10:\n",
        "    fee = 10.0\n",
        "  elif fee > 20:\n",
        "    fee = 20.0\n",
        "  print(hours, fee)"
      ],
      "metadata": {
        "colab": {
          "base_uri": "https://localhost:8080/"
        },
        "id": "Zs83DZoiqL2T",
        "outputId": "b8bc1bc6-1aa7-426a-82c4-ff293107b7a8"
      },
      "execution_count": 22,
      "outputs": [
        {
          "output_type": "stream",
          "name": "stdout",
          "text": [
            "1 10.0\n",
            "2 10.0\n",
            "3 12.5\n",
            "4 15.0\n",
            "5 17.5\n",
            "6 20.0\n",
            "7 20.0\n",
            "8 20.0\n"
          ]
        }
      ]
    },
    {
      "cell_type": "code",
      "source": [
        "import math\n",
        "\n",
        "print ('ad$', 'profit')\n",
        "for AD in range (0, 201, 25):\n",
        "  AA = 20 + 2 * round(AD ** .5)\n",
        "  gross = (AA * 10)\n",
        "  cost = 200 + (AD)\n",
        "  rev =  gross - cost\n",
        "  print (AD, rev)"
      ],
      "metadata": {
        "colab": {
          "base_uri": "https://localhost:8080/"
        },
        "id": "0-EAnAG8rB5F",
        "outputId": "a7c3a198-0cfc-4a6d-8f74-2cbb2a1e7205"
      },
      "execution_count": 35,
      "outputs": [
        {
          "output_type": "stream",
          "name": "stdout",
          "text": [
            "ad$ profit\n",
            "0 0\n",
            "25 75\n",
            "50 90\n",
            "75 105\n",
            "100 100\n",
            "125 95\n",
            "150 90\n",
            "175 85\n",
            "200 80\n"
          ]
        }
      ]
    }
  ]
}